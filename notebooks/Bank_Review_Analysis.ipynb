{
 "cells": [
  {
   "cell_type": "code",
   "execution_count": null,
   "id": "f976a4a0",
   "metadata": {},
   "outputs": [
    {
     "name": "stdout",
     "output_type": "stream",
     "text": [
      "Project Root: /home/fentahun/10 acadamy/fin-tec week2/fintech_reviews_omega_week2\n",
      "Using App IDs: {'CBE': 'com.combanketh.mobilebanking', 'BOA': 'com.boa.boaMobileBanking', 'Dashen': 'com.dashen.dashensuperapp', 'ENAT': 'com.enatbankeuthopialive'}\n",
      "Raw Data Dir: data/raw/\n"
     ]
    }
   ],
   "source": [
    "# Cell 1: Setup - Imports and Configuration\n",
    "import pandas as pd\n",
    "import numpy as np\n",
    "import os\n",
    "import sys\n",
    "import matplotlib.pyplot as plt\n",
    "import seaborn as sns\n",
    "from wordcloud import WordCloud\n",
    "from collections import Counter\n",
    "\n",
    "project_root = os.path.abspath(os.path.join(os.getcwd(), os.pardir))\n",
    "if project_root not in sys.path:\n",
    "    sys.path.append(project_root)\n",
    "\n",
    "import config\n",
    "from src.data_collection import scrapper, preprocess, sentiment_thematic_analysis\n",
    "\n",
    "plt.style.use('seaborn-v0_8-whitegrid') \n",
    "sns.set_theme(style=\"whitegrid\")\n",
    "%matplotlib inline\n",
    "\n",
    "print(f\"Project Root: {project_root}\")\n",
    "print(f\"Using App IDs: {config.APP_IDS}\")\n",
    "print(f\"Raw Data Dir: {config.RAW_DATA_DIR}\")"
   ]
  },
  {
   "cell_type": "code",
   "execution_count": 8,
   "id": "e7703664",
   "metadata": {},
   "outputs": [
    {
     "name": "stdout",
     "output_type": "stream",
     "text": [
      "Scraping reviews for Commercial Bank of Ethiopia (com.combanketh.mobilebanking)...\n",
      "reviews_all fetched 7492 reviews for Commercial Bank of Ethiopia.\n",
      "Successfully processed 7492 reviews for Commercial Bank of Ethiopia.\n",
      "Saved raw reviews for Commercial Bank of Ethiopia to data/raw/CBE_reviews_raw.csv\n",
      "Scraping reviews for Bank of Abyssinia (com.boa.boaMobileBanking)...\n",
      "reviews_all fetched 1044 reviews for Bank of Abyssinia.\n",
      "Successfully processed 1044 reviews for Bank of Abyssinia.\n",
      "Saved raw reviews for Bank of Abyssinia to data/raw/BOA_reviews_raw.csv\n",
      "Scraping reviews for Dashen Bank (com.dashen.dashensuperapp)...\n",
      "reviews_all fetched 449 reviews for Dashen Bank.\n",
      "Successfully processed 449 reviews for Dashen Bank.\n",
      "Saved raw reviews for Dashen Bank to data/raw/Dashen_reviews_raw.csv\n",
      "Scraping reviews for Enat Bank (com.enatbankeuthopialive)...\n",
      "reviews_all fetched 113 reviews for Enat Bank.\n",
      "reviews_all fetched 113 reviews, which is less than 400. Trying paginated fetching for more if needed.\n",
      "Attempting paginated fetch to reach 400 for Enat Bank\n",
      "Fetched 113 paginated reviews for Enat Bank. Total (paginated only): 113\n",
      "No more paginated reviews found for Enat Bank after fetching 113.\n",
      "Successfully processed 113 reviews for Enat Bank.\n",
      "Saved raw reviews for Enat Bank to data/raw/ENAT_reviews_raw.csv\n",
      "All raw reviews saved to data/raw/all_banks_reviews_raw.csv\n",
      "Total reviews scraped: 9098\n",
      "\n",
      "Review counts per bank (raw):\n",
      "bank_name\n",
      "Commercial Bank of Ethiopia    7492\n",
      "Bank of Abyssinia              1044\n",
      "Dashen Bank                     449\n",
      "Enat Bank                       113\n",
      "Name: count, dtype: int64\n",
      "Scraping complete. Raw data should be in: data/raw/\n"
     ]
    }
   ],
   "source": [
    "# Cell 2: Task 1 - Data Collection (Scraping)\n",
    "\n",
    "scrapper.run_scraper() \n",
    "print(\"Scraping complete. Raw data should be in:\", config.RAW_DATA_DIR)\n",
    "\n"
   ]
  }
 ],
 "metadata": {
  "kernelspec": {
   "display_name": ".venv",
   "language": "python",
   "name": "python3"
  },
  "language_info": {
   "codemirror_mode": {
    "name": "ipython",
    "version": 3
   },
   "file_extension": ".py",
   "mimetype": "text/x-python",
   "name": "python",
   "nbconvert_exporter": "python",
   "pygments_lexer": "ipython3",
   "version": "3.10.12"
  }
 },
 "nbformat": 4,
 "nbformat_minor": 5
}
