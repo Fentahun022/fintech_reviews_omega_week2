{
 "cells": [
  {
   "cell_type": "code",
   "execution_count": 1,
   "id": "1e4f4e96",
   "metadata": {},
   "outputs": [
    {
     "name": "stderr",
     "output_type": "stream",
     "text": [
      "/home/fentahun/10 acadamy/fin-tec week2/fintech_reviews_omega_week2/.venv/lib/python3.11/site-packages/tqdm/auto.py:21: TqdmWarning: IProgress not found. Please update jupyter and ipywidgets. See https://ipywidgets.readthedocs.io/en/stable/user_install.html\n",
      "  from .autonotebook import tqdm as notebook_tqdm\n"
     ]
    },
    {
     "name": "stdout",
     "output_type": "stream",
     "text": [
      "Libraries imported successfully.\n"
     ]
    }
   ],
   "source": [
    "\n",
    "### In[2]:\n",
    "\n",
    "# Cell 1: Setup and Imports\n",
    "\n",
    "import pandas as pd\n",
    "import numpy as np\n",
    "import os\n",
    "import re\n",
    "import nltk\n",
    "from nltk.corpus import stopwords\n",
    "from nltk.tokenize import word_tokenize\n",
    "from nltk.stem import WordNetLemmatizer\n",
    "from transformers import pipeline\n",
    "from sklearn.feature_extraction.text import TfidfVectorizer\n",
    "import sys\n",
    "import warnings\n",
    "\n",
    "# Suppress warnings for a cleaner notebook output\n",
    "warnings.filterwarnings('ignore')\n",
    "pd.set_option('display.max_colwidth', 150)\n",
    "\n",
    "print(\"Libraries imported successfully.\")"
   ]
  },
  {
   "cell_type": "code",
   "execution_count": 2,
   "id": "2352cdcc",
   "metadata": {},
   "outputs": [
    {
     "name": "stdout",
     "output_type": "stream",
     "text": [
      "Configuration file 'config.py' loaded successfully.\n",
      "Processed data directory: data/processed/\n"
     ]
    }
   ],
   "source": [
    "# Cell 2: Load Project Configuration\n",
    "# This cell imports the configuration from your `config.py` file.\n",
    "# It adjusts the system path to find the config file at the project root.\n",
    "\n",
    "try:\n",
    "    # Add the project root directory to the Python path\n",
    "    sys.path.append(os.path.abspath(os.path.join(os.getcwd(), '..')))\n",
    "    import config\n",
    "    print(\"Configuration file 'config.py' loaded successfully.\")\n",
    "    print(f\"Processed data directory: {config.PROCESSED_DATA_DIR}\")\n",
    "except ImportError:\n",
    "    print(\"ERROR: config.py not found.\")\n",
    "    print(\"Please ensure this notebook is in a 'notebooks' directory and config.py is in the project root.\")\n",
    "    config = None"
   ]
  },
  {
   "cell_type": "code",
   "execution_count": 3,
   "id": "0f2735ef",
   "metadata": {},
   "outputs": [
    {
     "name": "stdout",
     "output_type": "stream",
     "text": [
      "NLTK resource 'stopwords' already downloaded.\n",
      "NLTK resource 'punkt' already downloaded.\n",
      "NLTK resource 'wordnet' not found. Downloading...\n",
      "NLTK resource 'omw-1.4' not found. Downloading...\n",
      "\n",
      "NLTK resources ready.\n"
     ]
    },
    {
     "name": "stderr",
     "output_type": "stream",
     "text": [
      "[nltk_data] Downloading package wordnet to /home/fentahun/nltk_data...\n",
      "[nltk_data]   Package wordnet is already up-to-date!\n",
      "[nltk_data] Downloading package omw-1.4 to /home/fentahun/nltk_data...\n",
      "[nltk_data]   Package omw-1.4 is already up-to-date!\n"
     ]
    }
   ],
   "source": [
    "# Cell 3: Download NLTK Resources and Initialize\n",
    "# This function checks for necessary NLTK resources and downloads them if missing.\n",
    "\n",
    "def download_nltk_resources():\n",
    "    resources = {\n",
    "        \"stopwords\": \"corpora/stopwords\",\n",
    "        \"punkt\": \"tokenizers/punkt\",\n",
    "        \"wordnet\": \"corpora/wordnet\",\n",
    "        \"omw-1.4\": \"corpora/omw-1.4\"\n",
    "    }\n",
    "    for resource_name, resource_path in resources.items():\n",
    "        try:\n",
    "            nltk.data.find(resource_path)\n",
    "            print(f\"NLTK resource '{resource_name}' already downloaded.\")\n",
    "        except LookupError:\n",
    "            print(f\"NLTK resource '{resource_name}' not found. Downloading...\")\n",
    "            nltk.download(resource_name)\n",
    "\n",
    "download_nltk_resources()\n",
    "\n",
    "# Initialize global objects for NLP tasks\n",
    "stop_words = set(stopwords.words('english'))\n",
    "lemmatizer = WordNetLemmatizer()\n",
    "print(\"\\nNLTK resources ready.\")"
   ]
  },
  {
   "cell_type": "code",
   "execution_count": 4,
   "id": "27778050",
   "metadata": {},
   "outputs": [
    {
     "name": "stdout",
     "output_type": "stream",
     "text": [
      "Loading sentiment analysis model...\n"
     ]
    },
    {
     "name": "stderr",
     "output_type": "stream",
     "text": [
      "Device set to use cpu\n"
     ]
    },
    {
     "name": "stdout",
     "output_type": "stream",
     "text": [
      "Sentiment model loaded successfully.\n"
     ]
    }
   ],
   "source": [
    "# Cell 4: Load Sentiment Analysis Model\n",
    "# Loads the pre-trained sentiment analysis model from Hugging Face specified in the config.\n",
    "\n",
    "if config:\n",
    "    print(\"Loading sentiment analysis model...\")\n",
    "    try:\n",
    "        sentiment_classifier = pipeline(\n",
    "            \"sentiment-analysis\",\n",
    "            model=config.SENTIMENT_MODEL_NAME,\n",
    "            device=-1  # Use -1 for CPU, 0 for CUDA GPU if available\n",
    "        )\n",
    "        print(\"Sentiment model loaded successfully.\")\n",
    "    except Exception as e:\n",
    "        print(f\"Error loading sentiment model ({config.SENTIMENT_MODEL_NAME}): {e}\")\n",
    "        print(\"Sentiment analysis might be impacted or skipped.\")\n",
    "        sentiment_classifier = None\n",
    "else:\n",
    "    print(\"Skipping model loading because config was not found.\")\n",
    "    sentiment_classifier = None"
   ]
  },
  {
   "cell_type": "code",
   "execution_count": 5,
   "id": "3e587422",
   "metadata": {},
   "outputs": [
    {
     "name": "stdout",
     "output_type": "stream",
     "text": [
      "Helper functions defined.\n"
     ]
    }
   ],
   "source": [
    "# Cell 5: Define Analysis Helper Functions\n",
    "# These functions will be used to process the data in the subsequent steps.\n",
    "\n",
    "def get_sentiment_batch(text_batch):\n",
    "    \"\"\"Gets sentiment for a batch of texts using the loaded pipeline.\"\"\"\n",
    "    if sentiment_classifier is None:\n",
    "        return [{'label': 'NEUTRAL', 'score': 0.0}] * len(text_batch)\n",
    "\n",
    "    truncated_batch = [text[:510] for text in text_batch]\n",
    "    try:\n",
    "        return sentiment_classifier(truncated_batch)\n",
    "    except Exception as e:\n",
    "        print(f\"Error during sentiment prediction: {e}\")\n",
    "        return [{'label': 'ERROR', 'score': 0.0}] * len(text_batch)\n",
    "\n",
    "def preprocess_nlp_text(text):\n",
    "    \"\"\"Cleans text for NLP: lowercasing, removing numbers/punctuation, tokenizing, lemmatizing, and removing stopwords.\"\"\"\n",
    "    if pd.isna(text): return \"\"\n",
    "    text = str(text).lower()\n",
    "    text = re.sub(r'\\d+', '', text)\n",
    "    text = re.sub(r'[^\\w\\s]', '', text)\n",
    "    tokens = word_tokenize(text)\n",
    "    tokens = [lemmatizer.lemmatize(word) for word in tokens if word not in stop_words and len(word) > 2]\n",
    "    return \" \".join(tokens)\n",
    "\n",
    "def extract_themes_from_text_v2(nlp_text, original_text):\n",
    "    \"\"\"Identifies themes from text by matching keywords from the config.\"\"\"\n",
    "    identified_themes = set()\n",
    "    search_text = (str(nlp_text) + \" \" + str(original_text).lower()).strip()\n",
    "\n",
    "    if config:\n",
    "        for theme, keywords in config.THEMES_KEYWORDS.items():\n",
    "            for keyword in keywords:\n",
    "                if re.search(r'\\b' + re.escape(keyword) + r'\\b', search_text, re.IGNORECASE):\n",
    "                    identified_themes.add(theme)\n",
    "    \n",
    "    return list(identified_themes) if identified_themes else ['General Feedback']\n",
    "\n",
    "print(\"Helper functions defined.\")"
   ]
  },
  {
   "cell_type": "code",
   "execution_count": 6,
   "id": "6cc64bba",
   "metadata": {},
   "outputs": [
    {
     "name": "stdout",
     "output_type": "stream",
     "text": [
      "Loaded 5413 cleaned reviews for analysis.\n"
     ]
    },
    {
     "data": {
      "application/vnd.microsoft.datawrangler.viewer.v0+json": {
       "columns": [
        {
         "name": "index",
         "rawType": "int64",
         "type": "integer"
        },
        {
         "name": "review_id",
         "rawType": "object",
         "type": "string"
        },
        {
         "name": "cleaned_review_text",
         "rawType": "object",
         "type": "string"
        },
        {
         "name": "rating",
         "rawType": "int64",
         "type": "integer"
        },
        {
         "name": "date",
         "rawType": "object",
         "type": "string"
        },
        {
         "name": "bank_name",
         "rawType": "object",
         "type": "string"
        },
        {
         "name": "source",
         "rawType": "object",
         "type": "string"
        },
        {
         "name": "user_name",
         "rawType": "object",
         "type": "string"
        },
        {
         "name": "thumbs_up_count",
         "rawType": "int64",
         "type": "integer"
        },
        {
         "name": "app_version",
         "rawType": "object",
         "type": "unknown"
        },
        {
         "name": "review_text",
         "rawType": "object",
         "type": "string"
        }
       ],
       "ref": "e94908ba-dc86-4fbb-8359-8ecbf4b02e01",
       "rows": [
        [
         "0",
         "54f070b9-895f-40e8-be18-acb16f8af7fa",
         "best mobile banking app ever",
         "5",
         "2025-06-04",
         "Commercial Bank of Ethiopia",
         "Google Play",
         "A Google user",
         "0",
         "5.0.4",
         "Best Mobile Banking app ever"
        ],
        [
         "1",
         "9af95d2a-e42c-45ff-a4c9-5c38765df4a4",
         "it was good app but it have some issues like it doesnt give me the right amount that i have in the bank and have some issues in transferring",
         "2",
         "2025-06-04",
         "Commercial Bank of Ethiopia",
         "Google Play",
         "A Google user",
         "0",
         "5.1.0",
         "it was good app but it have some issues like it doesnt give me the right amount that I have in the bank and have some issues in transferring"
        ],
        [
         "2",
         "fce00cda-d71a-486e-a4c2-7479ab7793bc",
         "best app of finance",
         "5",
         "2025-06-04",
         "Commercial Bank of Ethiopia",
         "Google Play",
         "A Google user",
         "0",
         null,
         "best app of finance"
        ],
        [
         "3",
         "2470d199-834a-4134-a0f9-8c684ba75491",
         "engida kebede fetera",
         "5",
         "2025-06-03",
         "Commercial Bank of Ethiopia",
         "Google Play",
         "A Google user",
         "0",
         "5.1.0",
         "Engida Kebede Fetera"
        ],
        [
         "4",
         "428e5117-387f-4c9d-b095-3230e3f83a8a",
         "it is not safety",
         "1",
         "2025-06-03",
         "Commercial Bank of Ethiopia",
         "Google Play",
         "A Google user",
         "0",
         "5.1.0",
         "it is not safety"
        ]
       ],
       "shape": {
        "columns": 10,
        "rows": 5
       }
      },
      "text/html": [
       "<div>\n",
       "<style scoped>\n",
       "    .dataframe tbody tr th:only-of-type {\n",
       "        vertical-align: middle;\n",
       "    }\n",
       "\n",
       "    .dataframe tbody tr th {\n",
       "        vertical-align: top;\n",
       "    }\n",
       "\n",
       "    .dataframe thead th {\n",
       "        text-align: right;\n",
       "    }\n",
       "</style>\n",
       "<table border=\"1\" class=\"dataframe\">\n",
       "  <thead>\n",
       "    <tr style=\"text-align: right;\">\n",
       "      <th></th>\n",
       "      <th>review_id</th>\n",
       "      <th>cleaned_review_text</th>\n",
       "      <th>rating</th>\n",
       "      <th>date</th>\n",
       "      <th>bank_name</th>\n",
       "      <th>source</th>\n",
       "      <th>user_name</th>\n",
       "      <th>thumbs_up_count</th>\n",
       "      <th>app_version</th>\n",
       "      <th>review_text</th>\n",
       "    </tr>\n",
       "  </thead>\n",
       "  <tbody>\n",
       "    <tr>\n",
       "      <th>0</th>\n",
       "      <td>54f070b9-895f-40e8-be18-acb16f8af7fa</td>\n",
       "      <td>best mobile banking app ever</td>\n",
       "      <td>5</td>\n",
       "      <td>2025-06-04</td>\n",
       "      <td>Commercial Bank of Ethiopia</td>\n",
       "      <td>Google Play</td>\n",
       "      <td>A Google user</td>\n",
       "      <td>0</td>\n",
       "      <td>5.0.4</td>\n",
       "      <td>Best Mobile Banking app ever</td>\n",
       "    </tr>\n",
       "    <tr>\n",
       "      <th>1</th>\n",
       "      <td>9af95d2a-e42c-45ff-a4c9-5c38765df4a4</td>\n",
       "      <td>it was good app but it have some issues like it doesnt give me the right amount that i have in the bank and have some issues in transferring</td>\n",
       "      <td>2</td>\n",
       "      <td>2025-06-04</td>\n",
       "      <td>Commercial Bank of Ethiopia</td>\n",
       "      <td>Google Play</td>\n",
       "      <td>A Google user</td>\n",
       "      <td>0</td>\n",
       "      <td>5.1.0</td>\n",
       "      <td>it was good app but it have some issues like it doesnt give me the right amount that I have in the bank and have some issues in transferring</td>\n",
       "    </tr>\n",
       "    <tr>\n",
       "      <th>2</th>\n",
       "      <td>fce00cda-d71a-486e-a4c2-7479ab7793bc</td>\n",
       "      <td>best app of finance</td>\n",
       "      <td>5</td>\n",
       "      <td>2025-06-04</td>\n",
       "      <td>Commercial Bank of Ethiopia</td>\n",
       "      <td>Google Play</td>\n",
       "      <td>A Google user</td>\n",
       "      <td>0</td>\n",
       "      <td>NaN</td>\n",
       "      <td>best app of finance</td>\n",
       "    </tr>\n",
       "    <tr>\n",
       "      <th>3</th>\n",
       "      <td>2470d199-834a-4134-a0f9-8c684ba75491</td>\n",
       "      <td>engida kebede fetera</td>\n",
       "      <td>5</td>\n",
       "      <td>2025-06-03</td>\n",
       "      <td>Commercial Bank of Ethiopia</td>\n",
       "      <td>Google Play</td>\n",
       "      <td>A Google user</td>\n",
       "      <td>0</td>\n",
       "      <td>5.1.0</td>\n",
       "      <td>Engida Kebede Fetera</td>\n",
       "    </tr>\n",
       "    <tr>\n",
       "      <th>4</th>\n",
       "      <td>428e5117-387f-4c9d-b095-3230e3f83a8a</td>\n",
       "      <td>it is not safety</td>\n",
       "      <td>1</td>\n",
       "      <td>2025-06-03</td>\n",
       "      <td>Commercial Bank of Ethiopia</td>\n",
       "      <td>Google Play</td>\n",
       "      <td>A Google user</td>\n",
       "      <td>0</td>\n",
       "      <td>5.1.0</td>\n",
       "      <td>it is not safety</td>\n",
       "    </tr>\n",
       "  </tbody>\n",
       "</table>\n",
       "</div>"
      ],
      "text/plain": [
       "                              review_id  \\\n",
       "0  54f070b9-895f-40e8-be18-acb16f8af7fa   \n",
       "1  9af95d2a-e42c-45ff-a4c9-5c38765df4a4   \n",
       "2  fce00cda-d71a-486e-a4c2-7479ab7793bc   \n",
       "3  2470d199-834a-4134-a0f9-8c684ba75491   \n",
       "4  428e5117-387f-4c9d-b095-3230e3f83a8a   \n",
       "\n",
       "                                                                                                                            cleaned_review_text  \\\n",
       "0                                                                                                                  best mobile banking app ever   \n",
       "1  it was good app but it have some issues like it doesnt give me the right amount that i have in the bank and have some issues in transferring   \n",
       "2                                                                                                                           best app of finance   \n",
       "3                                                                                                                          engida kebede fetera   \n",
       "4                                                                                                                              it is not safety   \n",
       "\n",
       "   rating        date                    bank_name       source  \\\n",
       "0       5  2025-06-04  Commercial Bank of Ethiopia  Google Play   \n",
       "1       2  2025-06-04  Commercial Bank of Ethiopia  Google Play   \n",
       "2       5  2025-06-04  Commercial Bank of Ethiopia  Google Play   \n",
       "3       5  2025-06-03  Commercial Bank of Ethiopia  Google Play   \n",
       "4       1  2025-06-03  Commercial Bank of Ethiopia  Google Play   \n",
       "\n",
       "       user_name  thumbs_up_count app_version  \\\n",
       "0  A Google user                0       5.0.4   \n",
       "1  A Google user                0       5.1.0   \n",
       "2  A Google user                0         NaN   \n",
       "3  A Google user                0       5.1.0   \n",
       "4  A Google user                0       5.1.0   \n",
       "\n",
       "                                                                                                                                    review_text  \n",
       "0                                                                                                                  Best Mobile Banking app ever  \n",
       "1  it was good app but it have some issues like it doesnt give me the right amount that I have in the bank and have some issues in transferring  \n",
       "2                                                                                                                           best app of finance  \n",
       "3                                                                                                                          Engida Kebede Fetera  \n",
       "4                                                                                                                              it is not safety  "
      ]
     },
     "metadata": {},
     "output_type": "display_data"
    }
   ],
   "source": [
    "# Cell 6: Load Cleaned Data from File\n",
    "# This cell loads the preprocessed data from the path specified in `config.py`.\n",
    "# It assumes `preprocess.py` has already been run.\n",
    "\n",
    "if config:\n",
    "    cleaned_file_path = os.path.join(config.PROCESSED_DATA_DIR, \"all_banks_reviews_cleaned.csv\")\n",
    "    analyzed_file_path = os.path.join(config.PROCESSED_DATA_DIR, \"all_banks_reviews_analyzed.csv\")\n",
    "\n",
    "    if not os.path.exists(cleaned_file_path):\n",
    "        print(f\"Cleaned data file not found: {cleaned_file_path}\")\n",
    "        print(\"Please run the `scripts/preprocess.py` script first.\")\n",
    "    else:\n",
    "        df = pd.read_csv(cleaned_file_path)\n",
    "        # Ensure cleaned_review_text is string, handle potential NaN from CSV read\n",
    "        df['cleaned_review_text'] = df['cleaned_review_text'].astype(str).fillna('')\n",
    "        print(f\"Loaded {len(df)} cleaned reviews for analysis.\")\n",
    "        display(df.head())\n",
    "else:\n",
    "    print(\"Skipping data loading because config was not found.\")"
   ]
  },
  {
   "cell_type": "code",
   "execution_count": 7,
   "id": "307ef77e",
   "metadata": {},
   "outputs": [
    {
     "name": "stdout",
     "output_type": "stream",
     "text": [
      "Performing sentiment analysis...\n",
      "  Processed sentiment batch 1/85\n",
      "  Processed sentiment batch 2/85\n",
      "  Processed sentiment batch 3/85\n",
      "  Processed sentiment batch 4/85\n",
      "  Processed sentiment batch 5/85\n",
      "  Processed sentiment batch 6/85\n",
      "  Processed sentiment batch 7/85\n",
      "  Processed sentiment batch 8/85\n",
      "  Processed sentiment batch 9/85\n",
      "  Processed sentiment batch 10/85\n",
      "  Processed sentiment batch 11/85\n",
      "  Processed sentiment batch 12/85\n",
      "  Processed sentiment batch 13/85\n",
      "  Processed sentiment batch 14/85\n",
      "  Processed sentiment batch 15/85\n",
      "  Processed sentiment batch 16/85\n",
      "  Processed sentiment batch 17/85\n",
      "  Processed sentiment batch 18/85\n",
      "  Processed sentiment batch 19/85\n",
      "  Processed sentiment batch 20/85\n",
      "  Processed sentiment batch 21/85\n",
      "  Processed sentiment batch 22/85\n",
      "  Processed sentiment batch 23/85\n",
      "  Processed sentiment batch 24/85\n",
      "  Processed sentiment batch 25/85\n",
      "  Processed sentiment batch 26/85\n",
      "  Processed sentiment batch 27/85\n",
      "  Processed sentiment batch 28/85\n",
      "  Processed sentiment batch 29/85\n",
      "  Processed sentiment batch 30/85\n",
      "  Processed sentiment batch 31/85\n",
      "  Processed sentiment batch 32/85\n",
      "  Processed sentiment batch 33/85\n",
      "  Processed sentiment batch 34/85\n",
      "  Processed sentiment batch 35/85\n",
      "  Processed sentiment batch 36/85\n",
      "  Processed sentiment batch 37/85\n",
      "  Processed sentiment batch 38/85\n",
      "  Processed sentiment batch 39/85\n",
      "  Processed sentiment batch 40/85\n",
      "  Processed sentiment batch 41/85\n",
      "  Processed sentiment batch 42/85\n",
      "  Processed sentiment batch 43/85\n",
      "  Processed sentiment batch 44/85\n",
      "  Processed sentiment batch 45/85\n",
      "  Processed sentiment batch 46/85\n",
      "  Processed sentiment batch 47/85\n",
      "  Processed sentiment batch 48/85\n",
      "  Processed sentiment batch 49/85\n",
      "  Processed sentiment batch 50/85\n",
      "  Processed sentiment batch 51/85\n",
      "  Processed sentiment batch 52/85\n",
      "  Processed sentiment batch 53/85\n",
      "  Processed sentiment batch 54/85\n",
      "  Processed sentiment batch 55/85\n",
      "  Processed sentiment batch 56/85\n",
      "  Processed sentiment batch 57/85\n",
      "  Processed sentiment batch 58/85\n",
      "  Processed sentiment batch 59/85\n",
      "  Processed sentiment batch 60/85\n",
      "  Processed sentiment batch 61/85\n",
      "  Processed sentiment batch 62/85\n",
      "  Processed sentiment batch 63/85\n",
      "  Processed sentiment batch 64/85\n",
      "  Processed sentiment batch 65/85\n",
      "  Processed sentiment batch 66/85\n",
      "  Processed sentiment batch 67/85\n",
      "  Processed sentiment batch 68/85\n",
      "  Processed sentiment batch 69/85\n",
      "  Processed sentiment batch 70/85\n",
      "  Processed sentiment batch 71/85\n",
      "  Processed sentiment batch 72/85\n",
      "  Processed sentiment batch 73/85\n",
      "  Processed sentiment batch 74/85\n",
      "  Processed sentiment batch 75/85\n",
      "  Processed sentiment batch 76/85\n",
      "  Processed sentiment batch 77/85\n",
      "  Processed sentiment batch 78/85\n",
      "  Processed sentiment batch 79/85\n",
      "  Processed sentiment batch 80/85\n",
      "  Processed sentiment batch 81/85\n",
      "  Processed sentiment batch 82/85\n",
      "  Processed sentiment batch 83/85\n",
      "  Processed sentiment batch 84/85\n",
      "  Processed sentiment batch 85/85\n",
      "\n",
      "Sentiment analysis completed.\n",
      "\n",
      "Sentiment distribution (after adjustment):\n",
      "sentiment_label\n",
      "POSITIVE    0.625\n",
      "NEGATIVE    0.299\n",
      "NEUTRAL     0.076\n",
      "Name: proportion, dtype: float64\n"
     ]
    }
   ],
   "source": [
    "# Cell 7: Perform and Interpret Sentiment Analysis\n",
    "# Runs the sentiment analysis model on the review texts in batches.\n",
    "# It then adjusts the final sentiment label based on the star rating for better accuracy.\n",
    "\n",
    "if 'df' in locals() and sentiment_classifier:\n",
    "    print(\"Performing sentiment analysis...\")\n",
    "    batch_size = 64\n",
    "    sentiments_data = []\n",
    "    num_batches = (len(df) - 1) // batch_size + 1\n",
    "\n",
    "    for i in range(0, len(df), batch_size):\n",
    "        batch_texts = df['cleaned_review_text'][i:i+batch_size].tolist()\n",
    "        batch_sentiments = get_sentiment_batch(batch_texts)\n",
    "        sentiments_data.extend(batch_sentiments)\n",
    "        print(f\"  Processed sentiment batch {i//batch_size + 1}/{num_batches}\")\n",
    "\n",
    "    df['sentiment_label_raw'] = [s['label'] for s in sentiments_data]\n",
    "    df['sentiment_score_raw'] = [s['score'] for s in sentiments_data]\n",
    "\n",
    "    # Define the interpretation function to adjust sentiment based on rating\n",
    "    def interpret_sentiment(row):\n",
    "        label_raw, score_raw, rating = row['sentiment_label_raw'], row['sentiment_score_raw'], row['rating']\n",
    "        \n",
    "        final_label, numeric_sentiment = 'NEUTRAL', 0\n",
    "        if label_raw == 'POSITIVE':\n",
    "            final_label, numeric_sentiment = 'POSITIVE', 1\n",
    "        elif label_raw == 'NEGATIVE':\n",
    "            final_label, numeric_sentiment = 'NEGATIVE', -1\n",
    "        \n",
    "        # Override logic\n",
    "        if rating == 3:\n",
    "            final_label, numeric_sentiment = 'NEUTRAL', 0\n",
    "        elif rating <= 2 and final_label == 'POSITIVE':\n",
    "            final_label, numeric_sentiment = 'NEGATIVE', -1\n",
    "        elif rating >= 4 and final_label == 'NEGATIVE':\n",
    "            final_label, numeric_sentiment = 'POSITIVE', 1\n",
    "\n",
    "        return final_label, score_raw, numeric_sentiment\n",
    "\n",
    "    sentiment_cols = df.apply(interpret_sentiment, axis=1, result_type='expand')\n",
    "    df['sentiment_label'] = sentiment_cols[0]\n",
    "    df['sentiment_score_model'] = sentiment_cols[1]\n",
    "    df['sentiment_numeric'] = sentiment_cols[2]\n",
    "\n",
    "    print(\"\\nSentiment analysis completed.\")\n",
    "    print(\"\\nSentiment distribution (after adjustment):\")\n",
    "    print(df['sentiment_label'].value_counts(normalize=True).round(3))\n",
    "else:\n",
    "    print(\"Sentiment analysis skipped (DataFrame or model not loaded).\")\n",
    "    if 'df' in locals():\n",
    "        df['sentiment_label'] = 'NOT_COMPUTED'\n",
    "        df['sentiment_score_model'] = 0.0\n",
    "        df['sentiment_numeric'] = 0"
   ]
  },
  {
   "cell_type": "code",
   "execution_count": 8,
   "id": "79480576",
   "metadata": {},
   "outputs": [
    {
     "name": "stdout",
     "output_type": "stream",
     "text": [
      "Performing thematic analysis...\n",
      "Thematic analysis completed.\n",
      "\n",
      "Top 15 themes identified overall:\n"
     ]
    },
    {
     "data": {
      "application/vnd.microsoft.datawrangler.viewer.v0+json": {
       "columns": [
        {
         "name": "identified_themes",
         "rawType": "object",
         "type": "string"
        },
        {
         "name": "count",
         "rawType": "int64",
         "type": "integer"
        }
       ],
       "ref": "fe2b7e22-3cc0-410f-931e-f880d39ae697",
       "rows": [
        [
         "General Feedback",
         "2651"
        ],
        [
         "Bugs & Reliability",
         "1042"
        ],
        [
         "Transaction Performance",
         "976"
        ],
        [
         "Feature Requests",
         "845"
        ],
        [
         "User Interface & Experience",
         "727"
        ],
        [
         "Account Access Issues",
         "262"
        ],
        [
         "Customer Support",
         "191"
        ],
        [
         "App Speed & Performance",
         "153"
        ],
        [
         "Security Concerns",
         "143"
        ]
       ],
       "shape": {
        "columns": 1,
        "rows": 9
       }
      },
      "text/plain": [
       "identified_themes\n",
       "General Feedback               2651\n",
       "Bugs & Reliability             1042\n",
       "Transaction Performance         976\n",
       "Feature Requests                845\n",
       "User Interface & Experience     727\n",
       "Account Access Issues           262\n",
       "Customer Support                191\n",
       "App Speed & Performance         153\n",
       "Security Concerns               143\n",
       "Name: count, dtype: int64"
      ]
     },
     "metadata": {},
     "output_type": "display_data"
    }
   ],
   "source": [
    "# Cell 8: Perform Thematic Analysis\n",
    "# Applies NLP preprocessing and uses keyword matching to assign one or more themes to each review.\n",
    "\n",
    "if 'df' in locals():\n",
    "    print(\"Performing thematic analysis...\")\n",
    "    df['nlp_processed_text'] = df['cleaned_review_text'].apply(preprocess_nlp_text)\n",
    "    df['identified_themes'] = df.apply(\n",
    "        lambda row: extract_themes_from_text_v2(row['nlp_processed_text'], row['review_text']), axis=1\n",
    "    )\n",
    "    df['themes_str'] = df['identified_themes'].apply(lambda x: ', '.join(sorted(x)))\n",
    "\n",
    "    print(\"Thematic analysis completed.\")\n",
    "    \n",
    "    # Display the top themes found across all reviews\n",
    "    themes_exploded = df.explode('identified_themes')\n",
    "    print(\"\\nTop 15 themes identified overall:\")\n",
    "    display(themes_exploded['identified_themes'].value_counts().nlargest(15))"
   ]
  },
  {
   "cell_type": "code",
   "execution_count": 9,
   "id": "5708afa9",
   "metadata": {},
   "outputs": [
    {
     "name": "stdout",
     "output_type": "stream",
     "text": [
      "Extracting top keywords per bank using TF-IDF...\n",
      "\n",
      "--- Top Keywords for Bank of Abyssinia ---\n",
      "app, bank, work, good, working, update, time, banking, worst, mobile, boa, doesnt, use, best, like\n",
      "\n",
      "--- Top Keywords for Commercial Bank of Ethiopia ---\n",
      "app, good, best, use, easy, like, update, bank, nice, application, transaction, cbe, working, work, time\n",
      "\n",
      "--- Top Keywords for Dashen Bank ---\n",
      "app, dashen, bank, super, best, banking, good, dashen bank, use, feature, easy, super app, fast, amazing, step\n",
      "\n",
      "--- Top Keywords for Enat Bank ---\n",
      "app, use, good, work, update, easy, best, working, bank, open, mobile, easy use, doesnt, banking, application\n"
     ]
    }
   ],
   "source": [
    "# Cell 9: Extract Top Keywords per Bank (TF-IDF)\n",
    "# Uses TF-IDF to find the most relevant and important unigrams and bigrams for each bank,\n",
    "# helping to identify unique bank-specific topics.\n",
    "\n",
    "if 'df' in locals():\n",
    "    print(\"Extracting top keywords per bank using TF-IDF...\")\n",
    "    \n",
    "    for bank_name in sorted(df['bank_name'].unique()):\n",
    "        print(f\"\\n--- Top Keywords for {bank_name} ---\")\n",
    "        bank_mask = df['bank_name'] == bank_name\n",
    "        bank_texts = df.loc[bank_mask, 'nlp_processed_text'].dropna()\n",
    "        \n",
    "        if len(bank_texts) > 1: # TF-IDF needs at least two documents\n",
    "            try:\n",
    "                vectorizer = TfidfVectorizer(max_features=100, ngram_range=(1,2), stop_words='english')\n",
    "                tfidf_matrix = vectorizer.fit_transform(bank_texts)\n",
    "                feature_names = vectorizer.get_feature_names_out()\n",
    "                \n",
    "                sum_tfidf = tfidf_matrix.sum(axis=0)\n",
    "                tfidf_scores = [(feature_names[col], sum_tfidf[0, col]) for col in range(sum_tfidf.shape[1])]\n",
    "                sorted_tfidf_scores = sorted(tfidf_scores, key=lambda x: x[1], reverse=True)\n",
    "                top_keywords = [word for word, score in sorted_tfidf_scores[:15]]\n",
    "                \n",
    "                print(', '.join(top_keywords))\n",
    "                \n",
    "            except ValueError as e:\n",
    "                 print(f\"Could not extract keywords: {e}\")\n",
    "        else:\n",
    "            print(f\"Not enough reviews to extract TF-IDF keywords.\")"
   ]
  },
  {
   "cell_type": "code",
   "execution_count": 10,
   "id": "83742fca",
   "metadata": {},
   "outputs": [
    {
     "name": "stdout",
     "output_type": "stream",
     "text": [
      "\n",
      "Analyzed data with sentiment and themes saved to:\n",
      "data/processed/all_banks_reviews_analyzed.csv\n",
      "\n",
      "Preview of the final analyzed data:\n"
     ]
    },
    {
     "data": {
      "application/vnd.microsoft.datawrangler.viewer.v0+json": {
       "columns": [
        {
         "name": "index",
         "rawType": "int64",
         "type": "integer"
        },
        {
         "name": "review_id",
         "rawType": "object",
         "type": "string"
        },
        {
         "name": "review_text",
         "rawType": "object",
         "type": "string"
        },
        {
         "name": "cleaned_review_text",
         "rawType": "object",
         "type": "string"
        },
        {
         "name": "rating",
         "rawType": "int64",
         "type": "integer"
        },
        {
         "name": "date",
         "rawType": "object",
         "type": "string"
        },
        {
         "name": "bank_name",
         "rawType": "object",
         "type": "string"
        },
        {
         "name": "source",
         "rawType": "object",
         "type": "string"
        },
        {
         "name": "user_name",
         "rawType": "object",
         "type": "string"
        },
        {
         "name": "thumbs_up_count",
         "rawType": "int64",
         "type": "integer"
        },
        {
         "name": "app_version",
         "rawType": "object",
         "type": "unknown"
        },
        {
         "name": "sentiment_label",
         "rawType": "object",
         "type": "string"
        },
        {
         "name": "sentiment_score_model",
         "rawType": "float64",
         "type": "float"
        },
        {
         "name": "sentiment_numeric",
         "rawType": "int64",
         "type": "integer"
        },
        {
         "name": "nlp_processed_text",
         "rawType": "object",
         "type": "string"
        },
        {
         "name": "themes_str",
         "rawType": "object",
         "type": "string"
        }
       ],
       "ref": "5583a66e-bb92-4327-bffe-7c978958fb07",
       "rows": [
        [
         "0",
         "54f070b9-895f-40e8-be18-acb16f8af7fa",
         "Best Mobile Banking app ever",
         "best mobile banking app ever",
         "5",
         "2025-06-04",
         "Commercial Bank of Ethiopia",
         "Google Play",
         "A Google user",
         "0",
         "5.0.4",
         "POSITIVE",
         "0.9997294545173645",
         "1",
         "best mobile banking app ever",
         "General Feedback"
        ],
        [
         "1",
         "9af95d2a-e42c-45ff-a4c9-5c38765df4a4",
         "it was good app but it have some issues like it doesnt give me the right amount that I have in the bank and have some issues in transferring",
         "it was good app but it have some issues like it doesnt give me the right amount that i have in the bank and have some issues in transferring",
         "2",
         "2025-06-04",
         "Commercial Bank of Ethiopia",
         "Google Play",
         "A Google user",
         "0",
         "5.1.0",
         "NEGATIVE",
         "0.9981192946434021",
         "-1",
         "good app issue like doesnt give right amount bank issue transferring",
         "Bugs & Reliability"
        ],
        [
         "2",
         "fce00cda-d71a-486e-a4c2-7479ab7793bc",
         "best app of finance",
         "best app of finance",
         "5",
         "2025-06-04",
         "Commercial Bank of Ethiopia",
         "Google Play",
         "A Google user",
         "0",
         null,
         "POSITIVE",
         "0.9996503591537476",
         "1",
         "best app finance",
         "General Feedback"
        ],
        [
         "3",
         "2470d199-834a-4134-a0f9-8c684ba75491",
         "Engida Kebede Fetera",
         "engida kebede fetera",
         "5",
         "2025-06-03",
         "Commercial Bank of Ethiopia",
         "Google Play",
         "A Google user",
         "0",
         "5.1.0",
         "POSITIVE",
         "0.8396738767623901",
         "1",
         "engida kebede fetera",
         "General Feedback"
        ],
        [
         "4",
         "428e5117-387f-4c9d-b095-3230e3f83a8a",
         "it is not safety",
         "it is not safety",
         "1",
         "2025-06-03",
         "Commercial Bank of Ethiopia",
         "Google Play",
         "A Google user",
         "0",
         "5.1.0",
         "NEGATIVE",
         "0.9997867941856384",
         "-1",
         "safety",
         "General Feedback"
        ]
       ],
       "shape": {
        "columns": 15,
        "rows": 5
       }
      },
      "text/html": [
       "<div>\n",
       "<style scoped>\n",
       "    .dataframe tbody tr th:only-of-type {\n",
       "        vertical-align: middle;\n",
       "    }\n",
       "\n",
       "    .dataframe tbody tr th {\n",
       "        vertical-align: top;\n",
       "    }\n",
       "\n",
       "    .dataframe thead th {\n",
       "        text-align: right;\n",
       "    }\n",
       "</style>\n",
       "<table border=\"1\" class=\"dataframe\">\n",
       "  <thead>\n",
       "    <tr style=\"text-align: right;\">\n",
       "      <th></th>\n",
       "      <th>review_id</th>\n",
       "      <th>review_text</th>\n",
       "      <th>cleaned_review_text</th>\n",
       "      <th>rating</th>\n",
       "      <th>date</th>\n",
       "      <th>bank_name</th>\n",
       "      <th>source</th>\n",
       "      <th>user_name</th>\n",
       "      <th>thumbs_up_count</th>\n",
       "      <th>app_version</th>\n",
       "      <th>sentiment_label</th>\n",
       "      <th>sentiment_score_model</th>\n",
       "      <th>sentiment_numeric</th>\n",
       "      <th>nlp_processed_text</th>\n",
       "      <th>themes_str</th>\n",
       "    </tr>\n",
       "  </thead>\n",
       "  <tbody>\n",
       "    <tr>\n",
       "      <th>0</th>\n",
       "      <td>54f070b9-895f-40e8-be18-acb16f8af7fa</td>\n",
       "      <td>Best Mobile Banking app ever</td>\n",
       "      <td>best mobile banking app ever</td>\n",
       "      <td>5</td>\n",
       "      <td>2025-06-04</td>\n",
       "      <td>Commercial Bank of Ethiopia</td>\n",
       "      <td>Google Play</td>\n",
       "      <td>A Google user</td>\n",
       "      <td>0</td>\n",
       "      <td>5.0.4</td>\n",
       "      <td>POSITIVE</td>\n",
       "      <td>0.999729</td>\n",
       "      <td>1</td>\n",
       "      <td>best mobile banking app ever</td>\n",
       "      <td>General Feedback</td>\n",
       "    </tr>\n",
       "    <tr>\n",
       "      <th>1</th>\n",
       "      <td>9af95d2a-e42c-45ff-a4c9-5c38765df4a4</td>\n",
       "      <td>it was good app but it have some issues like it doesnt give me the right amount that I have in the bank and have some issues in transferring</td>\n",
       "      <td>it was good app but it have some issues like it doesnt give me the right amount that i have in the bank and have some issues in transferring</td>\n",
       "      <td>2</td>\n",
       "      <td>2025-06-04</td>\n",
       "      <td>Commercial Bank of Ethiopia</td>\n",
       "      <td>Google Play</td>\n",
       "      <td>A Google user</td>\n",
       "      <td>0</td>\n",
       "      <td>5.1.0</td>\n",
       "      <td>NEGATIVE</td>\n",
       "      <td>0.998119</td>\n",
       "      <td>-1</td>\n",
       "      <td>good app issue like doesnt give right amount bank issue transferring</td>\n",
       "      <td>Bugs &amp; Reliability</td>\n",
       "    </tr>\n",
       "    <tr>\n",
       "      <th>2</th>\n",
       "      <td>fce00cda-d71a-486e-a4c2-7479ab7793bc</td>\n",
       "      <td>best app of finance</td>\n",
       "      <td>best app of finance</td>\n",
       "      <td>5</td>\n",
       "      <td>2025-06-04</td>\n",
       "      <td>Commercial Bank of Ethiopia</td>\n",
       "      <td>Google Play</td>\n",
       "      <td>A Google user</td>\n",
       "      <td>0</td>\n",
       "      <td>NaN</td>\n",
       "      <td>POSITIVE</td>\n",
       "      <td>0.999650</td>\n",
       "      <td>1</td>\n",
       "      <td>best app finance</td>\n",
       "      <td>General Feedback</td>\n",
       "    </tr>\n",
       "    <tr>\n",
       "      <th>3</th>\n",
       "      <td>2470d199-834a-4134-a0f9-8c684ba75491</td>\n",
       "      <td>Engida Kebede Fetera</td>\n",
       "      <td>engida kebede fetera</td>\n",
       "      <td>5</td>\n",
       "      <td>2025-06-03</td>\n",
       "      <td>Commercial Bank of Ethiopia</td>\n",
       "      <td>Google Play</td>\n",
       "      <td>A Google user</td>\n",
       "      <td>0</td>\n",
       "      <td>5.1.0</td>\n",
       "      <td>POSITIVE</td>\n",
       "      <td>0.839674</td>\n",
       "      <td>1</td>\n",
       "      <td>engida kebede fetera</td>\n",
       "      <td>General Feedback</td>\n",
       "    </tr>\n",
       "    <tr>\n",
       "      <th>4</th>\n",
       "      <td>428e5117-387f-4c9d-b095-3230e3f83a8a</td>\n",
       "      <td>it is not safety</td>\n",
       "      <td>it is not safety</td>\n",
       "      <td>1</td>\n",
       "      <td>2025-06-03</td>\n",
       "      <td>Commercial Bank of Ethiopia</td>\n",
       "      <td>Google Play</td>\n",
       "      <td>A Google user</td>\n",
       "      <td>0</td>\n",
       "      <td>5.1.0</td>\n",
       "      <td>NEGATIVE</td>\n",
       "      <td>0.999787</td>\n",
       "      <td>-1</td>\n",
       "      <td>safety</td>\n",
       "      <td>General Feedback</td>\n",
       "    </tr>\n",
       "  </tbody>\n",
       "</table>\n",
       "</div>"
      ],
      "text/plain": [
       "                              review_id  \\\n",
       "0  54f070b9-895f-40e8-be18-acb16f8af7fa   \n",
       "1  9af95d2a-e42c-45ff-a4c9-5c38765df4a4   \n",
       "2  fce00cda-d71a-486e-a4c2-7479ab7793bc   \n",
       "3  2470d199-834a-4134-a0f9-8c684ba75491   \n",
       "4  428e5117-387f-4c9d-b095-3230e3f83a8a   \n",
       "\n",
       "                                                                                                                                    review_text  \\\n",
       "0                                                                                                                  Best Mobile Banking app ever   \n",
       "1  it was good app but it have some issues like it doesnt give me the right amount that I have in the bank and have some issues in transferring   \n",
       "2                                                                                                                           best app of finance   \n",
       "3                                                                                                                          Engida Kebede Fetera   \n",
       "4                                                                                                                              it is not safety   \n",
       "\n",
       "                                                                                                                            cleaned_review_text  \\\n",
       "0                                                                                                                  best mobile banking app ever   \n",
       "1  it was good app but it have some issues like it doesnt give me the right amount that i have in the bank and have some issues in transferring   \n",
       "2                                                                                                                           best app of finance   \n",
       "3                                                                                                                          engida kebede fetera   \n",
       "4                                                                                                                              it is not safety   \n",
       "\n",
       "   rating        date                    bank_name       source  \\\n",
       "0       5  2025-06-04  Commercial Bank of Ethiopia  Google Play   \n",
       "1       2  2025-06-04  Commercial Bank of Ethiopia  Google Play   \n",
       "2       5  2025-06-04  Commercial Bank of Ethiopia  Google Play   \n",
       "3       5  2025-06-03  Commercial Bank of Ethiopia  Google Play   \n",
       "4       1  2025-06-03  Commercial Bank of Ethiopia  Google Play   \n",
       "\n",
       "       user_name  thumbs_up_count app_version sentiment_label  \\\n",
       "0  A Google user                0       5.0.4        POSITIVE   \n",
       "1  A Google user                0       5.1.0        NEGATIVE   \n",
       "2  A Google user                0         NaN        POSITIVE   \n",
       "3  A Google user                0       5.1.0        POSITIVE   \n",
       "4  A Google user                0       5.1.0        NEGATIVE   \n",
       "\n",
       "   sentiment_score_model  sentiment_numeric  \\\n",
       "0               0.999729                  1   \n",
       "1               0.998119                 -1   \n",
       "2               0.999650                  1   \n",
       "3               0.839674                  1   \n",
       "4               0.999787                 -1   \n",
       "\n",
       "                                                     nlp_processed_text  \\\n",
       "0                                          best mobile banking app ever   \n",
       "1  good app issue like doesnt give right amount bank issue transferring   \n",
       "2                                                      best app finance   \n",
       "3                                                  engida kebede fetera   \n",
       "4                                                                safety   \n",
       "\n",
       "           themes_str  \n",
       "0    General Feedback  \n",
       "1  Bugs & Reliability  \n",
       "2    General Feedback  \n",
       "3    General Feedback  \n",
       "4    General Feedback  "
      ]
     },
     "metadata": {},
     "output_type": "display_data"
    }
   ],
   "source": [
    "# Cell 10: Save Final Analyzed Data\n",
    "# Selects the final set of columns and saves the enriched DataFrame to a new CSV file.\n",
    "\n",
    "if 'df' in locals():\n",
    "    # Select relevant columns for the final output file\n",
    "    cols_to_save = [\n",
    "        'review_id', 'review_text', 'cleaned_review_text', 'rating', 'date', 'bank_name', 'source',\n",
    "        'user_name', 'thumbs_up_count', 'app_version',\n",
    "        'sentiment_label', 'sentiment_score_model', 'sentiment_numeric',\n",
    "        'nlp_processed_text', 'themes_str'\n",
    "    ]\n",
    "    # Ensure all selected columns exist in the DataFrame\n",
    "    final_df_cols = [col for col in cols_to_save if col in df.columns]\n",
    "    df_analyzed = df[final_df_cols]\n",
    "\n",
    "    # Save the dataframe to a new CSV file\n",
    "    df_analyzed.to_csv(analyzed_file_path, index=False, encoding='utf-8')\n",
    "    \n",
    "    print(f\"\\nAnalyzed data with sentiment and themes saved to:\")\n",
    "    print(analyzed_file_path)\n",
    "    \n",
    "    print(\"\\nPreview of the final analyzed data:\")\n",
    "    display(df_analyzed.head())"
   ]
  }
 ],
 "metadata": {
  "kernelspec": {
   "display_name": ".venv",
   "language": "python",
   "name": "python3"
  },
  "language_info": {
   "codemirror_mode": {
    "name": "ipython",
    "version": 3
   },
   "file_extension": ".py",
   "mimetype": "text/x-python",
   "name": "python",
   "nbconvert_exporter": "python",
   "pygments_lexer": "ipython3",
   "version": "3.11.0rc1"
  }
 },
 "nbformat": 4,
 "nbformat_minor": 5
}
