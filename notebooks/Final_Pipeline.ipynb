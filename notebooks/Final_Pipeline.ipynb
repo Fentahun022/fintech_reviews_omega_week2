{
 "cells": [
  {
   "cell_type": "code",
   "execution_count": 13,
   "id": "4bfb04b7",
   "metadata": {},
   "outputs": [
    {
     "name": "stdout",
     "output_type": "stream",
     "text": [
      "Project Root added to path: /home/fentahun/10 acadamy/fin-tec week2/fintech_reviews_omega_week2\n"
     ]
    }
   ],
   "source": [
    "\n",
    "import subprocess\n",
    "import sys\n",
    "import os\n",
    "from IPython.display import Image, display, Markdown\n",
    "\n",
    "# Add the project root to the system path to ensure scripts can find config and utils\n",
    "project_root = os.path.abspath(os.path.join(os.getcwd(), '..'))\n",
    "if project_root not in sys.path:\n",
    "    sys.path.append(project_root)\n",
    "    \n",
    "print(f\"Project Root added to path: {project_root}\")\n",
    "\n",
    "# Helper function to run scripts and display their output in real-time\n",
    "def run_script(script_path):\n",
    "    \"\"\"Executes a python script and prints its output in real-time.\"\"\"\n",
    "    script_name = os.path.basename(script_path)\n",
    "    display(Markdown(f\"### ▶️ **Running Script: `{script_name}`**\"))\n",
    "    \n",
    "    process = subprocess.Popen(\n",
    "        [sys.executable, script_path],\n",
    "        stdout=subprocess.PIPE, stderr=subprocess.STDOUT,\n",
    "        text=True, encoding='utf-8', errors='replace'\n",
    "    )\n",
    "\n",
    "    # Stream the output\n",
    "    while True:\n",
    "        output = process.stdout.readline()\n",
    "        if output == '' and process.poll() is not None:\n",
    "            break\n",
    "        if output:\n",
    "            print(output.strip())\n",
    "            \n",
    "    if process.returncode != 0:\n",
    "        display(Markdown(f\"<p style='color:red;font-weight:bold;'>❌ ERROR: Script `{script_name}` failed.</p>\"))\n",
    "        return False\n",
    "    else:\n",
    "        display(Markdown(f\"<p style='color:green;font-weight:bold;'>✅ SUCCESS: Script `{script_name}` finished.</p>\"))\n",
    "        return True"
   ]
  },
  {
   "cell_type": "code",
   "execution_count": 14,
   "id": "947f04de",
   "metadata": {},
   "outputs": [
    {
     "data": {
      "text/markdown": [
       "### **1. Prerequisite Check**"
      ],
      "text/plain": [
       "<IPython.core.display.Markdown object>"
      ]
     },
     "metadata": {},
     "output_type": "display_data"
    },
    {
     "data": {
      "text/markdown": [
       "✅ Found analyzed data file: `data/processed/all_banks_reviews_analyzed.csv`"
      ],
      "text/plain": [
       "<IPython.core.display.Markdown object>"
      ]
     },
     "metadata": {},
     "output_type": "display_data"
    }
   ],
   "source": [
    "# Cell 2: Prerequisite Check\n",
    "# Verify that the necessary input file from Task 2 exists.\n",
    "\n",
    "import config \n",
    "\n",
    "analyzed_file_path = os.path.join(config.PROCESSED_DATA_DIR, \"all_banks_reviews_analyzed.csv\")\n",
    "\n",
    "display(Markdown(\"### **1. Prerequisite Check**\"))\n",
    "if os.path.exists(analyzed_file_path):\n",
    "    display(Markdown(f\"✅ Found analyzed data file: `{analyzed_file_path}`\"))\n",
    "    prereq_met = True\n",
    "else:\n",
    "    display(Markdown(f\"❌ **CRITICAL ERROR:** Analyzed data file not found at `{analyzed_file_path}`.\"))\n",
    "    display(Markdown(\"Please run `scripts/analysis.py` before proceeding.\"))\n",
    "    prereq_met = False"
   ]
  },
  {
   "cell_type": "code",
   "execution_count": 15,
   "id": "d7e9a553",
   "metadata": {},
   "outputs": [
    {
     "data": {
      "text/markdown": [
       "---"
      ],
      "text/plain": [
       "<IPython.core.display.Markdown object>"
      ]
     },
     "metadata": {},
     "output_type": "display_data"
    },
    {
     "data": {
      "text/markdown": [
       "## **Task 3: Loading Data into PostgreSQL**"
      ],
      "text/plain": [
       "<IPython.core.display.Markdown object>"
      ]
     },
     "metadata": {},
     "output_type": "display_data"
    },
    {
     "data": {
      "text/markdown": [
       "### ▶️ **Running Script: `db_loader.py`**"
      ],
      "text/plain": [
       "<IPython.core.display.Markdown object>"
      ]
     },
     "metadata": {},
     "output_type": "display_data"
    },
    {
     "name": "stdout",
     "output_type": "stream",
     "text": [
      "--- Starting Database Loading Process (Task 3) ---\n",
      "Loaded 5413 analyzed reviews from CSV.\n",
      "✅ PostgreSQL database connection successful!\n",
      "Populating BANKS table...\n",
      "\n",
      "Populating REVIEWS table...\n",
      "\n",
      "✅ Finished. Inserted or updated 13 records in the REVIEWS table.\n",
      "✅ KPI Met: Working connection + insert script.\n",
      "✅ KPI Met: Table populated with >1,000 entries.\n",
      "\n",
      "Database connection closed.\n"
     ]
    },
    {
     "data": {
      "text/markdown": [
       "<p style='color:green;font-weight:bold;'>✅ SUCCESS: Script `db_loader.py` finished.</p>"
      ],
      "text/plain": [
       "<IPython.core.display.Markdown object>"
      ]
     },
     "metadata": {},
     "output_type": "display_data"
    }
   ],
   "source": [
    "# Cell 3: Run the Database Loader Script\n",
    "\n",
    "if prereq_met:\n",
    "    display(Markdown(\"---\"))\n",
    "    display(Markdown(\"## **Task 3: Loading Data into PostgreSQL**\"))\n",
    "    db_loader_script = os.path.join(project_root, 'src', 'data_collection','db_loader.py')\n",
    "    run_script(db_loader_script)\n",
    "else:\n",
    "    display(Markdown(\"<p style='color:orange;font-weight:bold;'>Skipping Task 3 due to missing prerequisite file.</p>\"))"
   ]
  },
  {
   "cell_type": "code",
   "execution_count": null,
   "id": "e32062f2",
   "metadata": {},
   "outputs": [],
   "source": []
  }
 ],
 "metadata": {
  "kernelspec": {
   "display_name": ".venv",
   "language": "python",
   "name": "python3"
  },
  "language_info": {
   "codemirror_mode": {
    "name": "ipython",
    "version": 3
   },
   "file_extension": ".py",
   "mimetype": "text/x-python",
   "name": "python",
   "nbconvert_exporter": "python",
   "pygments_lexer": "ipython3",
   "version": "3.11.0rc1"
  }
 },
 "nbformat": 4,
 "nbformat_minor": 5
}
