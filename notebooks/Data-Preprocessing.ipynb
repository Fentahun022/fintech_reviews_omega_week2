{
 "cells": [
  {
   "cell_type": "code",
   "execution_count": 1,
   "id": "0fa4023b",
   "metadata": {},
   "outputs": [],
   "source": [
    "import pandas as pd\n",
    "import os\n",
    "import re\n",
    "import sys\n",
    "\n",
    "# Add the project root to the Python path\n",
    "# This allows us to import the `config` module\n",
    "project_root = os.path.abspath(os.path.join(os.path.dirname('__file__'), '..'))\n",
    "if project_root not in sys.path:\n",
    "    sys.path.append(project_root)\n",
    "\n",
    "import config"
   ]
  },
  {
   "cell_type": "code",
   "execution_count": 2,
   "id": "e6d2111a",
   "metadata": {},
   "outputs": [],
   "source": [
    "def clean_text_basic(text):\n",
    "    \"\"\"\n",
    "    Performs basic text cleaning:\n",
    "    - Converts to string and handles NaN\n",
    "    - Lowercases text\n",
    "    - Replaces multiple spaces with a single space\n",
    "    - Removes special characters, keeping alphanumeric, basic punctuation, and Amharic characters\n",
    "    - Strips leading/trailing whitespace\n",
    "    \"\"\"\n",
    "    if pd.isna(text):\n",
    "        return \"\"\n",
    "    text = str(text)\n",
    "    text = text.lower()  # Lowercase\n",
    "    text = re.sub(r'\\s+', ' ', text)  # Replace multiple spaces with single\n",
    "    # Keep alphanumeric, whitespace, and basic punctuation useful for NLP.\n",
    "    # Added Amharic unicode range U+1200 to U+137F.\n",
    "    text = re.sub(r'[^\\w\\s\\.\\?\\!\\'\\u1200-\\u137F]', '', text) \n",
    "    text = text.strip()\n",
    "    return text\n",
    "\n",
    "def preprocess_reviews(df_raw):\n",
    "    \"\"\"\n",
    "    Orchestrates the entire preprocessing pipeline for the raw reviews DataFrame.\n",
    "    \"\"\"\n",
    "    print(f\"Initial number of reviews: {len(df_raw)}\")\n",
    "    df = df_raw.copy()\n",
    "\n",
    "    # Ensure essential columns are present\n",
    "    essential_cols = ['review_id', 'review_text', 'rating', 'date', 'bank_name', 'source']\n",
    "    for col in essential_cols:\n",
    "        if col not in df.columns:\n",
    "            raise ValueError(f\"Essential column '{col}' not found in raw data.\")\n",
    "\n",
    "    # Handle missing essential data\n",
    "    df.dropna(subset=['review_text', 'rating', 'review_id'], inplace=True)\n",
    "    print(f\"Reviews after dropping NA in text/rating/review_id: {len(df)}\")\n",
    "\n",
    "    # Remove duplicates based on 'review_id'\n",
    "    df.drop_duplicates(subset=['review_id'], keep='first', inplace=True)\n",
    "    print(f\"Reviews after dropping duplicates by review_id: {len(df)}\")\n",
    "\n",
    "    # Normalize dates (to YYYY-MM-DD)\n",
    "    try:\n",
    "        df['date'] = pd.to_datetime(df['date']).dt.strftime('%Y-%m-%d')\n",
    "    except Exception as e:\n",
    "        print(f\"Warning: Could not parse all dates. Error: {e}. Coercing errors.\")\n",
    "        df['date'] = pd.to_datetime(df['date'], errors='coerce')\n",
    "        df.dropna(subset=['date'], inplace=True)\n",
    "        df['date'] = df['date'].dt.strftime('%Y-%m-%d')\n",
    "\n",
    "    # Clean review text\n",
    "    df['cleaned_review_text'] = df['review_text'].apply(clean_text_basic)\n",
    "\n",
    "    # Filter out reviews with very short text after cleaning (e.g., less than 3 words)\n",
    "    df = df[df['cleaned_review_text'].apply(lambda x: len(str(x).split()) > 2)]\n",
    "    print(f\"Reviews after filtering short cleaned texts: {len(df)}\")\n",
    "\n",
    "    # Select final columns\n",
    "    final_columns = [\n",
    "        'review_id', 'cleaned_review_text', 'rating', 'date', 'bank_name', 'source',\n",
    "        'user_name', 'thumbs_up_count', 'app_version', 'review_text' # Keep original for reference\n",
    "    ]\n",
    "    # Only include columns that actually exist in the df\n",
    "    final_columns = [col for col in final_columns if col in df.columns]\n",
    "    df_cleaned = df[final_columns]\n",
    "    \n",
    "    return df_cleaned"
   ]
  },
  {
   "cell_type": "code",
   "execution_count": 3,
   "id": "b1ee58be",
   "metadata": {},
   "outputs": [
    {
     "name": "stdout",
     "output_type": "stream",
     "text": [
      "Found raw data at: data/raw/all_banks_reviews_raw.csv\n"
     ]
    }
   ],
   "source": [
    "# Define file paths using the config module\n",
    "raw_file_path = os.path.join(config.RAW_DATA_DIR, \"all_banks_reviews_raw.csv\")\n",
    "processed_file_path = os.path.join(config.PROCESSED_DATA_DIR, \"all_banks_reviews_cleaned.csv\")\n",
    "\n",
    "# Check if raw data exists\n",
    "if not os.path.exists(raw_file_path):\n",
    "    print(f\"Raw data file not found: {raw_file_path}. Please run scraper first.\")\n",
    "else:\n",
    "    print(f\"Found raw data at: {raw_file_path}\")\n",
    "\n",
    "# Create the processed data directory if it doesn't exist\n",
    "if not os.path.exists(config.PROCESSED_DATA_DIR):\n",
    "    os.makedirs(config.PROCESSED_DATA_DIR)\n",
    "    print(f\"Created directory: {config.PROCESSED_DATA_DIR}\")"
   ]
  },
  {
   "cell_type": "code",
   "execution_count": 4,
   "id": "3d6340a7",
   "metadata": {},
   "outputs": [
    {
     "name": "stdout",
     "output_type": "stream",
     "text": [
      "Shape of the raw dataframe: (9098, 9)\n",
      "\n",
      "First 5 rows of raw data:\n"
     ]
    },
    {
     "data": {
      "application/vnd.microsoft.datawrangler.viewer.v0+json": {
       "columns": [
        {
         "name": "index",
         "rawType": "int64",
         "type": "integer"
        },
        {
         "name": "review_id",
         "rawType": "object",
         "type": "string"
        },
        {
         "name": "review_text",
         "rawType": "object",
         "type": "string"
        },
        {
         "name": "rating",
         "rawType": "int64",
         "type": "integer"
        },
        {
         "name": "date",
         "rawType": "object",
         "type": "string"
        },
        {
         "name": "bank_name",
         "rawType": "object",
         "type": "string"
        },
        {
         "name": "source",
         "rawType": "object",
         "type": "string"
        },
        {
         "name": "user_name",
         "rawType": "object",
         "type": "string"
        },
        {
         "name": "thumbs_up_count",
         "rawType": "int64",
         "type": "integer"
        },
        {
         "name": "app_version",
         "rawType": "object",
         "type": "unknown"
        }
       ],
       "ref": "4e9f33ec-b959-4b9f-8580-77b13f41e6a7",
       "rows": [
        [
         "0",
         "54f070b9-895f-40e8-be18-acb16f8af7fa",
         "Best Mobile Banking app ever",
         "5",
         "2025-06-04 16:50:52",
         "Commercial Bank of Ethiopia",
         "Google Play",
         "A Google user",
         "0",
         "5.0.4"
        ],
        [
         "1",
         "aa72fd94-aca8-48b2-bae2-29ad7633c7fb",
         "good",
         "5",
         "2025-06-04 16:00:15",
         "Commercial Bank of Ethiopia",
         "Google Play",
         "A Google user",
         "0",
         "5.1.0"
        ],
        [
         "2",
         "9af95d2a-e42c-45ff-a4c9-5c38765df4a4",
         "it was good app but it have some issues like it doesnt give me the right amount that I have in the bank and have some issues in transferring",
         "2",
         "2025-06-04 15:56:02",
         "Commercial Bank of Ethiopia",
         "Google Play",
         "A Google user",
         "0",
         "5.1.0"
        ],
        [
         "3",
         "067d3e52-3586-4e02-b088-0411f25d34fb",
         "dedeb",
         "5",
         "2025-06-04 15:04:02",
         "Commercial Bank of Ethiopia",
         "Google Play",
         "A Google user",
         "0",
         null
        ],
        [
         "4",
         "88a64315-9de3-4a35-ac27-5ff37c2833b6",
         "good",
         "5",
         "2025-06-04 14:59:40",
         "Commercial Bank of Ethiopia",
         "Google Play",
         "A Google user",
         "0",
         "5.1.0"
        ]
       ],
       "shape": {
        "columns": 9,
        "rows": 5
       }
      },
      "text/html": [
       "<div>\n",
       "<style scoped>\n",
       "    .dataframe tbody tr th:only-of-type {\n",
       "        vertical-align: middle;\n",
       "    }\n",
       "\n",
       "    .dataframe tbody tr th {\n",
       "        vertical-align: top;\n",
       "    }\n",
       "\n",
       "    .dataframe thead th {\n",
       "        text-align: right;\n",
       "    }\n",
       "</style>\n",
       "<table border=\"1\" class=\"dataframe\">\n",
       "  <thead>\n",
       "    <tr style=\"text-align: right;\">\n",
       "      <th></th>\n",
       "      <th>review_id</th>\n",
       "      <th>review_text</th>\n",
       "      <th>rating</th>\n",
       "      <th>date</th>\n",
       "      <th>bank_name</th>\n",
       "      <th>source</th>\n",
       "      <th>user_name</th>\n",
       "      <th>thumbs_up_count</th>\n",
       "      <th>app_version</th>\n",
       "    </tr>\n",
       "  </thead>\n",
       "  <tbody>\n",
       "    <tr>\n",
       "      <th>0</th>\n",
       "      <td>54f070b9-895f-40e8-be18-acb16f8af7fa</td>\n",
       "      <td>Best Mobile Banking app ever</td>\n",
       "      <td>5</td>\n",
       "      <td>2025-06-04 16:50:52</td>\n",
       "      <td>Commercial Bank of Ethiopia</td>\n",
       "      <td>Google Play</td>\n",
       "      <td>A Google user</td>\n",
       "      <td>0</td>\n",
       "      <td>5.0.4</td>\n",
       "    </tr>\n",
       "    <tr>\n",
       "      <th>1</th>\n",
       "      <td>aa72fd94-aca8-48b2-bae2-29ad7633c7fb</td>\n",
       "      <td>good</td>\n",
       "      <td>5</td>\n",
       "      <td>2025-06-04 16:00:15</td>\n",
       "      <td>Commercial Bank of Ethiopia</td>\n",
       "      <td>Google Play</td>\n",
       "      <td>A Google user</td>\n",
       "      <td>0</td>\n",
       "      <td>5.1.0</td>\n",
       "    </tr>\n",
       "    <tr>\n",
       "      <th>2</th>\n",
       "      <td>9af95d2a-e42c-45ff-a4c9-5c38765df4a4</td>\n",
       "      <td>it was good app but it have some issues like i...</td>\n",
       "      <td>2</td>\n",
       "      <td>2025-06-04 15:56:02</td>\n",
       "      <td>Commercial Bank of Ethiopia</td>\n",
       "      <td>Google Play</td>\n",
       "      <td>A Google user</td>\n",
       "      <td>0</td>\n",
       "      <td>5.1.0</td>\n",
       "    </tr>\n",
       "    <tr>\n",
       "      <th>3</th>\n",
       "      <td>067d3e52-3586-4e02-b088-0411f25d34fb</td>\n",
       "      <td>dedeb</td>\n",
       "      <td>5</td>\n",
       "      <td>2025-06-04 15:04:02</td>\n",
       "      <td>Commercial Bank of Ethiopia</td>\n",
       "      <td>Google Play</td>\n",
       "      <td>A Google user</td>\n",
       "      <td>0</td>\n",
       "      <td>NaN</td>\n",
       "    </tr>\n",
       "    <tr>\n",
       "      <th>4</th>\n",
       "      <td>88a64315-9de3-4a35-ac27-5ff37c2833b6</td>\n",
       "      <td>good</td>\n",
       "      <td>5</td>\n",
       "      <td>2025-06-04 14:59:40</td>\n",
       "      <td>Commercial Bank of Ethiopia</td>\n",
       "      <td>Google Play</td>\n",
       "      <td>A Google user</td>\n",
       "      <td>0</td>\n",
       "      <td>5.1.0</td>\n",
       "    </tr>\n",
       "  </tbody>\n",
       "</table>\n",
       "</div>"
      ],
      "text/plain": [
       "                              review_id  \\\n",
       "0  54f070b9-895f-40e8-be18-acb16f8af7fa   \n",
       "1  aa72fd94-aca8-48b2-bae2-29ad7633c7fb   \n",
       "2  9af95d2a-e42c-45ff-a4c9-5c38765df4a4   \n",
       "3  067d3e52-3586-4e02-b088-0411f25d34fb   \n",
       "4  88a64315-9de3-4a35-ac27-5ff37c2833b6   \n",
       "\n",
       "                                         review_text  rating  \\\n",
       "0                       Best Mobile Banking app ever       5   \n",
       "1                                               good       5   \n",
       "2  it was good app but it have some issues like i...       2   \n",
       "3                                              dedeb       5   \n",
       "4                                               good       5   \n",
       "\n",
       "                  date                    bank_name       source  \\\n",
       "0  2025-06-04 16:50:52  Commercial Bank of Ethiopia  Google Play   \n",
       "1  2025-06-04 16:00:15  Commercial Bank of Ethiopia  Google Play   \n",
       "2  2025-06-04 15:56:02  Commercial Bank of Ethiopia  Google Play   \n",
       "3  2025-06-04 15:04:02  Commercial Bank of Ethiopia  Google Play   \n",
       "4  2025-06-04 14:59:40  Commercial Bank of Ethiopia  Google Play   \n",
       "\n",
       "       user_name  thumbs_up_count app_version  \n",
       "0  A Google user                0       5.0.4  \n",
       "1  A Google user                0       5.1.0  \n",
       "2  A Google user                0       5.1.0  \n",
       "3  A Google user                0         NaN  \n",
       "4  A Google user                0       5.1.0  "
      ]
     },
     "metadata": {},
     "output_type": "display_data"
    },
    {
     "name": "stdout",
     "output_type": "stream",
     "text": [
      "\n",
      "Missing data percentages before preprocessing:\n",
      "review_id           0.000000\n",
      "review_text         0.076940\n",
      "rating              0.000000\n",
      "date                0.000000\n",
      "bank_name           0.000000\n",
      "source              0.000000\n",
      "user_name           0.000000\n",
      "thumbs_up_count     0.000000\n",
      "app_version        19.158057\n",
      "dtype: float64\n"
     ]
    }
   ],
   "source": [
    "# Load the raw data\n",
    "df_raw = pd.read_csv(raw_file_path)\n",
    "\n",
    "# Display basic information\n",
    "print(\"Shape of the raw dataframe:\", df_raw.shape)\n",
    "print(\"\\nFirst 5 rows of raw data:\")\n",
    "display(df_raw.head())\n",
    "\n",
    "# Check initial missing data percentages\n",
    "print(\"\\nMissing data percentages before preprocessing:\")\n",
    "print((df_raw.isnull().sum() / len(df_raw)) * 100)"
   ]
  },
  {
   "cell_type": "code",
   "execution_count": 5,
   "id": "05841cf4",
   "metadata": {},
   "outputs": [
    {
     "name": "stdout",
     "output_type": "stream",
     "text": [
      "Initial number of reviews: 9098\n",
      "Reviews after dropping NA in text/rating/review_id: 9091\n",
      "Reviews after dropping duplicates by review_id: 9091\n",
      "Reviews after filtering short cleaned texts: 5413\n"
     ]
    }
   ],
   "source": [
    "df_cleaned = preprocess_reviews(df_raw)"
   ]
  },
  {
   "cell_type": "code",
   "execution_count": 6,
   "id": "5d40a860",
   "metadata": {},
   "outputs": [
    {
     "name": "stdout",
     "output_type": "stream",
     "text": [
      "\n",
      "Total cleaned reviews: 5413\n",
      "\n",
      "First 5 rows of cleaned data:\n"
     ]
    },
    {
     "data": {
      "application/vnd.microsoft.datawrangler.viewer.v0+json": {
       "columns": [
        {
         "name": "index",
         "rawType": "int64",
         "type": "integer"
        },
        {
         "name": "review_id",
         "rawType": "object",
         "type": "string"
        },
        {
         "name": "cleaned_review_text",
         "rawType": "object",
         "type": "string"
        },
        {
         "name": "rating",
         "rawType": "int64",
         "type": "integer"
        },
        {
         "name": "date",
         "rawType": "object",
         "type": "string"
        },
        {
         "name": "bank_name",
         "rawType": "object",
         "type": "string"
        },
        {
         "name": "source",
         "rawType": "object",
         "type": "string"
        },
        {
         "name": "user_name",
         "rawType": "object",
         "type": "string"
        },
        {
         "name": "thumbs_up_count",
         "rawType": "int64",
         "type": "integer"
        },
        {
         "name": "app_version",
         "rawType": "object",
         "type": "unknown"
        },
        {
         "name": "review_text",
         "rawType": "object",
         "type": "string"
        }
       ],
       "ref": "3e570ae2-6601-4a46-83d7-0e418a195ffd",
       "rows": [
        [
         "0",
         "54f070b9-895f-40e8-be18-acb16f8af7fa",
         "best mobile banking app ever",
         "5",
         "2025-06-04",
         "Commercial Bank of Ethiopia",
         "Google Play",
         "A Google user",
         "0",
         "5.0.4",
         "Best Mobile Banking app ever"
        ],
        [
         "2",
         "9af95d2a-e42c-45ff-a4c9-5c38765df4a4",
         "it was good app but it have some issues like it doesnt give me the right amount that i have in the bank and have some issues in transferring",
         "2",
         "2025-06-04",
         "Commercial Bank of Ethiopia",
         "Google Play",
         "A Google user",
         "0",
         "5.1.0",
         "it was good app but it have some issues like it doesnt give me the right amount that I have in the bank and have some issues in transferring"
        ],
        [
         "8",
         "fce00cda-d71a-486e-a4c2-7479ab7793bc",
         "best app of finance",
         "5",
         "2025-06-04",
         "Commercial Bank of Ethiopia",
         "Google Play",
         "A Google user",
         "0",
         null,
         "best app of finance"
        ],
        [
         "10",
         "2470d199-834a-4134-a0f9-8c684ba75491",
         "engida kebede fetera",
         "5",
         "2025-06-03",
         "Commercial Bank of Ethiopia",
         "Google Play",
         "A Google user",
         "0",
         "5.1.0",
         "Engida Kebede Fetera"
        ],
        [
         "12",
         "428e5117-387f-4c9d-b095-3230e3f83a8a",
         "it is not safety",
         "1",
         "2025-06-03",
         "Commercial Bank of Ethiopia",
         "Google Play",
         "A Google user",
         "0",
         "5.1.0",
         "it is not safety"
        ]
       ],
       "shape": {
        "columns": 10,
        "rows": 5
       }
      },
      "text/html": [
       "<div>\n",
       "<style scoped>\n",
       "    .dataframe tbody tr th:only-of-type {\n",
       "        vertical-align: middle;\n",
       "    }\n",
       "\n",
       "    .dataframe tbody tr th {\n",
       "        vertical-align: top;\n",
       "    }\n",
       "\n",
       "    .dataframe thead th {\n",
       "        text-align: right;\n",
       "    }\n",
       "</style>\n",
       "<table border=\"1\" class=\"dataframe\">\n",
       "  <thead>\n",
       "    <tr style=\"text-align: right;\">\n",
       "      <th></th>\n",
       "      <th>review_id</th>\n",
       "      <th>cleaned_review_text</th>\n",
       "      <th>rating</th>\n",
       "      <th>date</th>\n",
       "      <th>bank_name</th>\n",
       "      <th>source</th>\n",
       "      <th>user_name</th>\n",
       "      <th>thumbs_up_count</th>\n",
       "      <th>app_version</th>\n",
       "      <th>review_text</th>\n",
       "    </tr>\n",
       "  </thead>\n",
       "  <tbody>\n",
       "    <tr>\n",
       "      <th>0</th>\n",
       "      <td>54f070b9-895f-40e8-be18-acb16f8af7fa</td>\n",
       "      <td>best mobile banking app ever</td>\n",
       "      <td>5</td>\n",
       "      <td>2025-06-04</td>\n",
       "      <td>Commercial Bank of Ethiopia</td>\n",
       "      <td>Google Play</td>\n",
       "      <td>A Google user</td>\n",
       "      <td>0</td>\n",
       "      <td>5.0.4</td>\n",
       "      <td>Best Mobile Banking app ever</td>\n",
       "    </tr>\n",
       "    <tr>\n",
       "      <th>2</th>\n",
       "      <td>9af95d2a-e42c-45ff-a4c9-5c38765df4a4</td>\n",
       "      <td>it was good app but it have some issues like i...</td>\n",
       "      <td>2</td>\n",
       "      <td>2025-06-04</td>\n",
       "      <td>Commercial Bank of Ethiopia</td>\n",
       "      <td>Google Play</td>\n",
       "      <td>A Google user</td>\n",
       "      <td>0</td>\n",
       "      <td>5.1.0</td>\n",
       "      <td>it was good app but it have some issues like i...</td>\n",
       "    </tr>\n",
       "    <tr>\n",
       "      <th>8</th>\n",
       "      <td>fce00cda-d71a-486e-a4c2-7479ab7793bc</td>\n",
       "      <td>best app of finance</td>\n",
       "      <td>5</td>\n",
       "      <td>2025-06-04</td>\n",
       "      <td>Commercial Bank of Ethiopia</td>\n",
       "      <td>Google Play</td>\n",
       "      <td>A Google user</td>\n",
       "      <td>0</td>\n",
       "      <td>NaN</td>\n",
       "      <td>best app of finance</td>\n",
       "    </tr>\n",
       "    <tr>\n",
       "      <th>10</th>\n",
       "      <td>2470d199-834a-4134-a0f9-8c684ba75491</td>\n",
       "      <td>engida kebede fetera</td>\n",
       "      <td>5</td>\n",
       "      <td>2025-06-03</td>\n",
       "      <td>Commercial Bank of Ethiopia</td>\n",
       "      <td>Google Play</td>\n",
       "      <td>A Google user</td>\n",
       "      <td>0</td>\n",
       "      <td>5.1.0</td>\n",
       "      <td>Engida Kebede Fetera</td>\n",
       "    </tr>\n",
       "    <tr>\n",
       "      <th>12</th>\n",
       "      <td>428e5117-387f-4c9d-b095-3230e3f83a8a</td>\n",
       "      <td>it is not safety</td>\n",
       "      <td>1</td>\n",
       "      <td>2025-06-03</td>\n",
       "      <td>Commercial Bank of Ethiopia</td>\n",
       "      <td>Google Play</td>\n",
       "      <td>A Google user</td>\n",
       "      <td>0</td>\n",
       "      <td>5.1.0</td>\n",
       "      <td>it is not safety</td>\n",
       "    </tr>\n",
       "  </tbody>\n",
       "</table>\n",
       "</div>"
      ],
      "text/plain": [
       "                               review_id  \\\n",
       "0   54f070b9-895f-40e8-be18-acb16f8af7fa   \n",
       "2   9af95d2a-e42c-45ff-a4c9-5c38765df4a4   \n",
       "8   fce00cda-d71a-486e-a4c2-7479ab7793bc   \n",
       "10  2470d199-834a-4134-a0f9-8c684ba75491   \n",
       "12  428e5117-387f-4c9d-b095-3230e3f83a8a   \n",
       "\n",
       "                                  cleaned_review_text  rating        date  \\\n",
       "0                        best mobile banking app ever       5  2025-06-04   \n",
       "2   it was good app but it have some issues like i...       2  2025-06-04   \n",
       "8                                 best app of finance       5  2025-06-04   \n",
       "10                               engida kebede fetera       5  2025-06-03   \n",
       "12                                   it is not safety       1  2025-06-03   \n",
       "\n",
       "                      bank_name       source      user_name  thumbs_up_count  \\\n",
       "0   Commercial Bank of Ethiopia  Google Play  A Google user                0   \n",
       "2   Commercial Bank of Ethiopia  Google Play  A Google user                0   \n",
       "8   Commercial Bank of Ethiopia  Google Play  A Google user                0   \n",
       "10  Commercial Bank of Ethiopia  Google Play  A Google user                0   \n",
       "12  Commercial Bank of Ethiopia  Google Play  A Google user                0   \n",
       "\n",
       "   app_version                                        review_text  \n",
       "0        5.0.4                       Best Mobile Banking app ever  \n",
       "2        5.1.0  it was good app but it have some issues like i...  \n",
       "8          NaN                                best app of finance  \n",
       "10       5.1.0                               Engida Kebede Fetera  \n",
       "12       5.1.0                                   it is not safety  "
      ]
     },
     "metadata": {},
     "output_type": "display_data"
    },
    {
     "name": "stdout",
     "output_type": "stream",
     "text": [
      "\n",
      "Missing data percentages after cleaning:\n",
      "review_id               0.000000\n",
      "cleaned_review_text     0.000000\n",
      "rating                  0.000000\n",
      "date                    0.000000\n",
      "bank_name               0.000000\n",
      "source                  0.000000\n",
      "user_name               0.000000\n",
      "thumbs_up_count         0.000000\n",
      "app_version            16.645114\n",
      "review_text             0.000000\n",
      "dtype: float64\n",
      "\n",
      "--- Data Quality KPI Check ---\n",
      "✅ KPI Met: Less than 5% missing data in critical columns.\n"
     ]
    }
   ],
   "source": [
    "print(f\"\\nTotal cleaned reviews: {len(df_cleaned)}\")\n",
    "print(\"\\nFirst 5 rows of cleaned data:\")\n",
    "display(df_cleaned.head())\n",
    "\n",
    "# Calculate missing data percentages after cleaning\n",
    "missing_percentage_cleaned = (df_cleaned.isnull().sum() / len(df_cleaned)) * 100\n",
    "print(\"\\nMissing data percentages after cleaning:\")\n",
    "print(missing_percentage_cleaned)\n",
    "\n",
    "# KPI Check: We want less than 5% missing data in critical columns.\n",
    "print(\"\\n--- Data Quality KPI Check ---\")\n",
    "critical_cols_check = ['cleaned_review_text', 'rating', 'date', 'bank_name']\n",
    "if missing_percentage_cleaned[critical_cols_check].max() < 5:\n",
    "    print(\"✅ KPI Met: Less than 5% missing data in critical columns.\")\n",
    "else:\n",
    "    print(\"⚠️ Warning: KPI NOT Met. More than 5% missing data in one or more critical columns.\")\n",
    "    print(missing_percentage_cleaned[critical_cols_check])"
   ]
  },
  {
   "cell_type": "code",
   "execution_count": 7,
   "id": "94f8ae75",
   "metadata": {},
   "outputs": [
    {
     "name": "stdout",
     "output_type": "stream",
     "text": [
      "\n",
      "Review counts per bank in the cleaned data:\n",
      "bank_name\n",
      "Commercial Bank of Ethiopia    4353\n",
      "Bank of Abyssinia               657\n",
      "Dashen Bank                     328\n",
      "Enat Bank                        75\n",
      "Name: count, dtype: int64\n",
      "\n",
      "✅ Cleaned data successfully saved to: data/processed/all_banks_reviews_cleaned.csv\n"
     ]
    }
   ],
   "source": [
    "print(\"\\nReview counts per bank in the cleaned data:\")\n",
    "print(df_cleaned['bank_name'].value_counts())\n",
    "\n",
    "# Save the cleaned dataframe\n",
    "df_cleaned.to_csv(processed_file_path, index=False, encoding='utf-8')\n",
    "\n",
    "print(f\"\\n✅ Cleaned data successfully saved to: {processed_file_path}\")"
   ]
  }
 ],
 "metadata": {
  "kernelspec": {
   "display_name": ".venv",
   "language": "python",
   "name": "python3"
  },
  "language_info": {
   "codemirror_mode": {
    "name": "ipython",
    "version": 3
   },
   "file_extension": ".py",
   "mimetype": "text/x-python",
   "name": "python",
   "nbconvert_exporter": "python",
   "pygments_lexer": "ipython3",
   "version": "3.11.0"
  }
 },
 "nbformat": 4,
 "nbformat_minor": 5
}
